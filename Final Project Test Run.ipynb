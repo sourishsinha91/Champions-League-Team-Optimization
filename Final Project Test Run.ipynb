{
 "cells": [
  {
   "cell_type": "code",
   "execution_count": 37,
   "metadata": {
    "collapsed": false
   },
   "outputs": [
    {
     "data": {
      "text/plain": [
       "(26,30)"
      ]
     },
     "execution_count": 37,
     "metadata": {},
     "output_type": "execute_result"
    }
   ],
   "source": [
    "bayern_raw = readcsv(\"Bayern Munich Player Stats.csv\");\n",
    "real_raw = readcsv(\"Real Madrid Player Stats.csv\");\n",
    "\n",
    "(m,n) = size(bayern_raw)\n",
    "(m2,n2) = size(real_raw)"
   ]
  },
  {
   "cell_type": "code",
   "execution_count": 39,
   "metadata": {
    "collapsed": false
   },
   "outputs": [],
   "source": [
    "real_squad_table = real_raw\n",
    "bayern_squad_table = bayern_raw;"
   ]
  },
  {
   "cell_type": "code",
   "execution_count": 22,
   "metadata": {
    "collapsed": false
   },
   "outputs": [
    {
     "data": {
      "text/plain": [
       "10-element Array{Int64,1}:\n",
       "  7\n",
       " 10\n",
       "  8\n",
       "  4\n",
       "  6\n",
       "  2\n",
       "  5\n",
       "  1\n",
       "  9\n",
       "  3"
      ]
     },
     "execution_count": 22,
     "metadata": {},
     "output_type": "execute_result"
    }
   ],
   "source": [
    "ix = sortperm(A[1,:])"
   ]
  },
  {
   "cell_type": "code",
   "execution_count": 24,
   "metadata": {
    "collapsed": false
   },
   "outputs": [
    {
     "data": {
      "text/plain": [
       "2×3 Array{Float64,2}:\n",
       " 0.0564732  0.0821054  0.155946\n",
       " 0.262768   0.142597   0.144909"
      ]
     },
     "execution_count": 24,
     "metadata": {},
     "output_type": "execute_result"
    }
   ],
   "source": [
    "A[:,ix[1:3]]"
   ]
  },
  {
   "cell_type": "code",
   "execution_count": 21,
   "metadata": {
    "collapsed": false
   },
   "outputs": [
    {
     "name": "stdout",
     "output_type": "stream",
     "text": [
      "search: \u001b[1ms\u001b[22m\u001b[1mo\u001b[22m\u001b[1mr\u001b[22m\u001b[1mt\u001b[22m\u001b[1mp\u001b[22m\u001b[1me\u001b[22m\u001b[1mr\u001b[22m\u001b[1mm\u001b[22m \u001b[1ms\u001b[22m\u001b[1mo\u001b[22m\u001b[1mr\u001b[22m\u001b[1mt\u001b[22m\u001b[1mp\u001b[22m\u001b[1me\u001b[22m\u001b[1mr\u001b[22m\u001b[1mm\u001b[22m!\n",
      "\n"
     ]
    },
    {
     "data": {
      "text/markdown": [
       "```\n",
       "sortperm(v, [alg=<algorithm>,] [by=<transform>,] [lt=<comparison>,] [rev=false])\n",
       "```\n",
       "\n",
       "Return a permutation vector of indices of `v` that puts it in sorted order. Specify `alg` to choose a particular sorting algorithm (see Sorting Algorithms). `MergeSort` is used by default, and since it is stable, the resulting permutation will be the lexicographically first one that puts the input array into sorted order – i.e. indices of equal elements appear in ascending order. If you choose a non-stable sorting algorithm such as `QuickSort`, a different permutation that puts the array into order may be returned. The order is specified using the same keywords as `sort!`.\n",
       "\n",
       "See also [`sortperm!`](:func:`sortperm!`).\n"
      ],
      "text/plain": [
       "```\n",
       "sortperm(v, [alg=<algorithm>,] [by=<transform>,] [lt=<comparison>,] [rev=false])\n",
       "```\n",
       "\n",
       "Return a permutation vector of indices of `v` that puts it in sorted order. Specify `alg` to choose a particular sorting algorithm (see Sorting Algorithms). `MergeSort` is used by default, and since it is stable, the resulting permutation will be the lexicographically first one that puts the input array into sorted order – i.e. indices of equal elements appear in ascending order. If you choose a non-stable sorting algorithm such as `QuickSort`, a different permutation that puts the array into order may be returned. The order is specified using the same keywords as `sort!`.\n",
       "\n",
       "See also [`sortperm!`](:func:`sortperm!`).\n"
      ]
     },
     "execution_count": 21,
     "metadata": {},
     "output_type": "execute_result"
    }
   ],
   "source": [
    "?sortperm"
   ]
  },
  {
   "cell_type": "code",
   "execution_count": 28,
   "metadata": {
    "collapsed": false
   },
   "outputs": [],
   "source": [
    "using JuMP\n",
    "rm = Model()\n",
    "\n",
    "squad_stat_values = real_squad_table[(2:26),(4:30)]\n",
    "\n",
    "@variable(rm, player_names[1:25])\n",
    "@variable(rm, position[1:25])\n",
    "@variable(rm, finalteam)\n",
    "\n",
    "@variable(rm, gk_number)\n",
    "@variable(rm, def_number)\n",
    "@variable(rm, mid_number)\n",
    "@variable(rm, fwd_number)\n",
    "@variable(rm, count)\n",
    "\n",
    "@constraint(rm, count<=11)\n",
    "\n",
    "gk_number = 1\n",
    "def_number = 4\n",
    "mid_number = 4\n",
    "fwd_number = 2\n",
    "count = 1;\n",
    "\n",
    "finalteam = Array{Any,2}(zeros(11,29))\n",
    "indexes = Array{Int64}(zeros(11))\n",
    "\n",
    "#-----------------------------------------------------------------------------------------------------------------------------\n",
    "#storing player attributes\n",
    "\n",
    "player_names = Array{String}(real_squad_table[2:26,1])\n",
    "position = Array{String}(real_squad_table[2:26,3])\n",
    "acceleration = Array{Int64}(real_squad_table[2:26,4])\n",
    "aggression = Array{Int64}(real_squad_table[2:26,5])\n",
    "agility = Array{Int64}(real_squad_table[2:26,6])\n",
    "balance = Array{Int64}(real_squad_table[2:26,7])\n",
    "ball_control = Array{Int64}(real_squad_table[2:26,8])\n",
    "crossing = Array{Int64}(real_squad_table[2:26,9])\n",
    "dribbling = Array{Int64}(real_squad_table[2:26,10])\n",
    "finishing = Array{Int64}(real_squad_table[2:26,11])\n",
    "gk_diving = Array{Int64}(real_squad_table[2:26,12])\n",
    "gk_handling = Array{Int64}(real_squad_table[2:26,13])\n",
    "gk_reflexes = Array{Int64}(real_squad_table[2:26,14])\n",
    "heading_accuracy = Array{Int64}(real_squad_table[2:26,15])\n",
    "interceptions = Array{Int64}(real_squad_table[2:26,16])\n",
    "long_passing = Array{Int64}(real_squad_table[2:26,17])\n",
    "long_shots = Array{Int64}(real_squad_table[2:26,18])\n",
    "marking = Array{Int64}(real_squad_table[2:26,19])\n",
    "positioning = Array{Int64}(real_squad_table[2:26,20])\n",
    "reactions = Array{Int64}(real_squad_table[2:26,21])\n",
    "short_passing = Array{Int64}(real_squad_table[2:26,22])\n",
    "shotpower = Array{Int64}(real_squad_table[2:26,23])\n",
    "sliding_tackle = Array{Int64}(real_squad_table[2:26,24])\n",
    "sprint_speed = Array{Int64}(real_squad_table[2:26,25])\n",
    "standing_tackle = Array{Int64}(real_squad_table[2:26,26])\n",
    "stamina = Array{Int64}(real_squad_table[2:26,27])\n",
    "strength = Array{Int64}(real_squad_table[2:26,28])\n",
    "vision = Array{Int64}(real_squad_table[2:26,29])\n",
    "volleys = Array{Int64}(real_squad_table[2:26,30])\n",
    "\n",
    "\n",
    "\n",
    "#-----------------------------------------------------------------------------------------------------------------------------\n",
    "#choosing goalkeeper\n",
    "max = 0;\n",
    "goalkeeper_score = 0;\n",
    "\n",
    "for i = 1:length(player_names)\n",
    "    goalkeeper_score = squad_stat_values[i,9] + squad_stat_values[i,10] + squad_stat_values[i,11]\n",
    "    if goalkeeper_score>=max\n",
    "        max = goalkeeper_score\n",
    "        indexes[count] = i\n",
    "    end\n",
    "end\n",
    "\n",
    "if count<=10\n",
    "    count = count + 1;\n",
    "end\n",
    "\n",
    "#-----------------------------------------------------------------------------------------------------------------------------\n",
    "#choosing defence\n",
    "defender_scores = Array{Int64}(zeros(1,25))[:]\n",
    "\n",
    "for i = 1:25\n",
    "    defender_scores[i] = squad_stat_values[i,2] + squad_stat_values[i,12] + squad_stat_values[i,13] + squad_stat_values[i,16] \n",
    "    + squad_stat_values[i,21] + squad_stat_values[i,23] + squad_stat_values[i,25]\n",
    "end\n",
    "\n",
    "defender_index = sortperm(defender_scores, rev=true)\n",
    "i = 1;\n",
    "def_count = 0;\n",
    "\n",
    "while def_count<=def_number-0.1\n",
    "    if position[defender_index[i]] == \"CB\" || position[defender_index[i]] == \"FB\"\n",
    "        indexes[count] = defender_index[i]\n",
    "        def_count = def_count + 1;\n",
    "        if count<=10\n",
    "            count = count + 1;\n",
    "        end\n",
    "    end\n",
    "    i=i+1\n",
    "end"
   ]
  },
  {
   "cell_type": "code",
   "execution_count": 29,
   "metadata": {
    "collapsed": false
   },
   "outputs": [],
   "source": [
    "#-----------------------------------------------------------------------------------------------------------------------------\n",
    "#choosing midfield\n",
    "midfielder_scores = Array{Int64}(zeros(1,25))[:]\n",
    "\n",
    "for i = 1:25\n",
    "    midfielder_scores[i] = squad_stat_values[i,1] + squad_stat_values[i,3] + squad_stat_values[i,4] + squad_stat_values[i,5] + squad_stat_values[i,6] + squad_stat_values[i,7] + squad_stat_values[i,8] + squad_stat_values[i,14] + squad_stat_values[i,15] + squad_stat_values[i,17] + squad_stat_values[i,18] + squad_stat_values[i,19] + squad_stat_values[i,20] + squad_stat_values[i,26]\n",
    "end\n",
    "\n",
    "midfielder_index = sortperm(midfielder_scores, rev=true)\n",
    "j = 1;\n",
    "mid_count = 0;\n",
    "\n",
    "while mid_count<=mid_number-0.1\n",
    "    if position[midfielder_index[j]] == \"CM\" || position[midfielder_index[j]] == \"WG\"\n",
    "        indexes[count] = midfielder_index[j]\n",
    "        if count<=10\n",
    "            count = count + 1;\n",
    "        end\n",
    "        mid_count = mid_count + 1\n",
    "    end\n",
    "    j=j+1\n",
    "end\n"
   ]
  },
  {
   "cell_type": "code",
   "execution_count": 30,
   "metadata": {
    "collapsed": false
   },
   "outputs": [],
   "source": [
    "#-----------------------------------------------------------------------------------------------------------------------------\n",
    "#choosing strikers\n",
    "forward_scores = Array{Int64}(zeros(1,25))[:]\n",
    "\n",
    "for i = 1:25\n",
    "    forward_scores[i] = squad_stat_values[i,1] + squad_stat_values[i,3] + squad_stat_values[i,5] + squad_stat_values[i,7] + squad_stat_values[i,8] + squad_stat_values[i,12] + squad_stat_values[i,15] + squad_stat_values[i,17] + squad_stat_values[i,18] + squad_stat_values[i,20] + squad_stat_values[i,22] + squad_stat_values[i,24] + squad_stat_values[i,27]\n",
    "end\n",
    "\n",
    "forward_index = sortperm(forward_scores, rev=true)\n",
    "i = 1\n",
    "fwd_count = 0;\n",
    "\n",
    "while fwd_count<=fwd_number-0.1\n",
    "    if position[forward_index[i]] == \"FW\"\n",
    "        indexes[count] = forward_index[i]\n",
    "        if count<=10\n",
    "            count = count + 1;\n",
    "        end\n",
    "        fwd_count = fwd_count+1\n",
    "    end\n",
    "    i=i+1\n",
    "end"
   ]
  },
  {
   "cell_type": "code",
   "execution_count": 40,
   "metadata": {
    "collapsed": false
   },
   "outputs": [
    {
     "name": "stdout",
     "output_type": "stream",
     "text": [
      "Real Madrid's team is: \n"
     ]
    },
    {
     "data": {
      "text/plain": [
       "11×29 Array{Any,2}:\n",
       " \"Keylor Navas\"       \"GK\"  61  32  70  …  30  21  14  52  14  41  65  54  11\n",
       " \"Pepe\"               \"CB\"  65  94  63     67  63  90  75  89  64  84  48  23\n",
       " \"Sergio Ramos\"       \"CB\"  77  84  80     76  79  90  78  89  84  81  63  66\n",
       " \"Raphael Varane\"     \"CB\"  76  73  58     72  52  85  78  86  70  84  56  42\n",
       " \"Marcelo\"            \"FB\"  77  84  77     81  83  87  80  84  82  77  75  54\n",
       " \"Cristiano Ronaldo\"  \"WG\"  91  63  90  …  82  94  23  92  31  92  80  85  88\n",
       " \"Gareth Bale\"        \"WG\"  93  65  77     86  91  52  95  55  78  80  79  76\n",
       " \"Luka Modric\"        \"CM\"  77  62  93     92  73  73  71  80  83  58  90  74\n",
       " \"James Rodriguez\"    \"CM\"  77  65  82     84  86  30  75  42  68  70  88  91\n",
       " \"Karim Benzema\"      \"FW\"  79  65  77     86  83  12  82  15  74  78  85  79\n",
       " \"Alvaro Morata\"      \"FW\"  79  54  59  …  74  78  20  86  14  68  82  76  80"
      ]
     },
     "execution_count": 40,
     "metadata": {},
     "output_type": "execute_result"
    }
   ],
   "source": [
    "#-----------------------------------------------------------------------------------------------------------------------------\n",
    "#assembling team\n",
    "for i = 1:11\n",
    "    finalteam[i,1] = player_names[indexes[i]]\n",
    "    finalteam[i,2] = position[indexes[i]]\n",
    "    finalteam[i,3] = acceleration[indexes[i]]\n",
    "    finalteam[i,4] = aggression[indexes[i]]\n",
    "    finalteam[i,5] = agility[indexes[i]]\n",
    "    finalteam[i,6] = balance[indexes[i]]\n",
    "    finalteam[i,7] = ball_control[indexes[i]]\n",
    "    finalteam[i,8] = crossing[indexes[i]]\n",
    "    finalteam[i,9] = dribbling[indexes[i]]\n",
    "    finalteam[i,10] = finishing[indexes[i]]\n",
    "    finalteam[i,11] = gk_diving[indexes[i]]\n",
    "    finalteam[i,12] = gk_handling[indexes[i]]\n",
    "    finalteam[i,13] = gk_reflexes[indexes[i]]\n",
    "    finalteam[i,14] = heading_accuracy[indexes[i]]\n",
    "    finalteam[i,15] = interceptions[indexes[i]]\n",
    "    finalteam[i,16] = long_passing[indexes[i]]\n",
    "    finalteam[i,17] = long_shots[indexes[i]]\n",
    "    finalteam[i,18] = marking[indexes[i]]\n",
    "    finalteam[i,19] = positioning[indexes[i]]\n",
    "    finalteam[i,20] = reactions[indexes[i]]\n",
    "    finalteam[i,21] = short_passing[indexes[i]]\n",
    "    finalteam[i,22] = shotpower[indexes[i]]\n",
    "    finalteam[i,23] = sliding_tackle[indexes[i]]\n",
    "    finalteam[i,24] = sprint_speed[indexes[i]]\n",
    "    finalteam[i,25] = standing_tackle[indexes[i]]\n",
    "    finalteam[i,26] = stamina[indexes[i]]\n",
    "    finalteam[i,27] = strength[indexes[i]]\n",
    "    finalteam[i,28] = vision[indexes[i]]\n",
    "    finalteam[i,29] = volleys[indexes[i]]\n",
    "end\n",
    "\n",
    "println(\"Real Madrid's team is: \")\n",
    "finalteam[:,:]"
   ]
  },
  {
   "cell_type": "code",
   "execution_count": null,
   "metadata": {
    "collapsed": true
   },
   "outputs": [],
   "source": []
  }
 ],
 "metadata": {
  "kernelspec": {
   "display_name": "Julia 0.5.0",
   "language": "julia",
   "name": "julia-0.5"
  },
  "language_info": {
   "file_extension": ".jl",
   "mimetype": "application/julia",
   "name": "julia",
   "version": "0.5.0"
  }
 },
 "nbformat": 4,
 "nbformat_minor": 2
}
